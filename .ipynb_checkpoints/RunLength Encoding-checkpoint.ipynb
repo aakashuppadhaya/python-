{
 "cells": [
  {
   "cell_type": "code",
   "execution_count": 16,
   "metadata": {},
   "outputs": [],
   "source": [
    "from collections import OrderedDict\n",
    "import itertools"
   ]
  },
  {
   "cell_type": "code",
   "execution_count": 19,
   "metadata": {},
   "outputs": [],
   "source": [
    "# Python code for run length encoding \n",
    "def runLengthEncoding(input): \n",
    "  \n",
    "    # Generate ordered dictionary of all lower \n",
    "    # case alphabets, its output will be  \n",
    "    # dict = {'w':0, 'a':0, 'd':0, 'e':0, 'x':0} \n",
    "    dict=OrderedDict.fromkeys(input, 0) \n",
    "  \n",
    "    # Now iterate through input string to calculate  \n",
    "    # frequency of each character, its output will be  \n",
    "    # dict = {'w':4,'a':3,'d':1,'e':1,'x':6} \n",
    "    for ch in input: \n",
    "        dict[ch] += 1\n",
    "  \n",
    "    # now iterate through dictionary to make  \n",
    "    # output string from (key,value) pairs \n",
    "    output = '' \n",
    "    for key,value in dict.iteritems(): \n",
    "         output = output + key + str(value) \n",
    "    return output \n",
    "   \n"
   ]
  },
  {
   "cell_type": "code",
   "execution_count": 20,
   "metadata": {},
   "outputs": [
    {
     "ename": "AttributeError",
     "evalue": "'collections.OrderedDict' object has no attribute 'iteritems'",
     "output_type": "error",
     "traceback": [
      "\u001b[1;31m---------------------------------------------------------------------------\u001b[0m",
      "\u001b[1;31mAttributeError\u001b[0m                            Traceback (most recent call last)",
      "\u001b[1;32m<ipython-input-20-2d816241f760>\u001b[0m in \u001b[0;36m<module>\u001b[1;34m()\u001b[0m\n\u001b[0;32m      1\u001b[0m \u001b[0minput\u001b[0m\u001b[1;33m=\u001b[0m\u001b[1;34m'wwwwaaadexxxxxx'\u001b[0m\u001b[1;33m\u001b[0m\u001b[0m\n\u001b[1;32m----> 2\u001b[1;33m \u001b[0mrunLengthEncoding\u001b[0m\u001b[1;33m(\u001b[0m\u001b[0minput\u001b[0m\u001b[1;33m)\u001b[0m\u001b[1;33m\u001b[0m\u001b[0m\n\u001b[0m",
      "\u001b[1;32m<ipython-input-19-d97ddd493a17>\u001b[0m in \u001b[0;36mrunLengthEncoding\u001b[1;34m(input)\u001b[0m\n\u001b[0;32m     16\u001b[0m     \u001b[1;31m# output string from (key,value) pairs\u001b[0m\u001b[1;33m\u001b[0m\u001b[1;33m\u001b[0m\u001b[0m\n\u001b[0;32m     17\u001b[0m     \u001b[0moutput\u001b[0m \u001b[1;33m=\u001b[0m \u001b[1;34m''\u001b[0m\u001b[1;33m\u001b[0m\u001b[0m\n\u001b[1;32m---> 18\u001b[1;33m     \u001b[1;32mfor\u001b[0m \u001b[0mkey\u001b[0m\u001b[1;33m,\u001b[0m\u001b[0mvalue\u001b[0m \u001b[1;32min\u001b[0m \u001b[0mdict\u001b[0m\u001b[1;33m.\u001b[0m\u001b[0miteritems\u001b[0m\u001b[1;33m(\u001b[0m\u001b[1;33m)\u001b[0m\u001b[1;33m:\u001b[0m\u001b[1;33m\u001b[0m\u001b[0m\n\u001b[0m\u001b[0;32m     19\u001b[0m          \u001b[0moutput\u001b[0m \u001b[1;33m=\u001b[0m \u001b[0moutput\u001b[0m \u001b[1;33m+\u001b[0m \u001b[0mkey\u001b[0m \u001b[1;33m+\u001b[0m \u001b[0mstr\u001b[0m\u001b[1;33m(\u001b[0m\u001b[0mvalue\u001b[0m\u001b[1;33m)\u001b[0m\u001b[1;33m\u001b[0m\u001b[0m\n\u001b[0;32m     20\u001b[0m     \u001b[1;32mreturn\u001b[0m \u001b[0moutput\u001b[0m\u001b[1;33m\u001b[0m\u001b[0m\n",
      "\u001b[1;31mAttributeError\u001b[0m: 'collections.OrderedDict' object has no attribute 'iteritems'"
     ]
    }
   ],
   "source": [
    "input='wwwwaaadexxxxxx'\n",
    "runLengthEncoding(input)"
   ]
  },
  {
   "cell_type": "code",
   "execution_count": 25,
   "metadata": {},
   "outputs": [
    {
     "name": "stdout",
     "output_type": "stream",
     "text": [
      "w4a3d1e1x6\n"
     ]
    }
   ],
   "source": [
    "# Python code for run length encoding \n",
    "from collections import OrderedDict as OD\n",
    "def runLengthEncoding(input): \n",
    "  \n",
    "    # Generate ordered dictionary of all lower \n",
    "    # case alphabets, its output will be  \n",
    "    # dict = {'w':0, 'a':0, 'd':0, 'e':0, 'x':0} \n",
    "    dict=OD.fromkeys(input, 0) \n",
    "  \n",
    "    # Now iterate through input string to calculate  \n",
    "    # frequency of each character, its output will be  \n",
    "    # dict = {'w':4,'a':3,'d':1,'e':1,'x':6} \n",
    "    for ch in input: \n",
    "        dict[ch] += 1\n",
    "  \n",
    "    # now iterate through dictionary to make  \n",
    "    # output string from (key,value) pairs \n",
    "    output = '' \n",
    "    for key,value in dict.items(): \n",
    "         output = output + key + str(value) \n",
    "    return output \n",
    "   \n",
    "# Driver function \n",
    "if __name__ == \"__main__\": \n",
    "    input='wwwwaaadexxxxxx'\n",
    "    print(runLengthEncoding(input)) "
   ]
  },
  {
   "cell_type": "code",
   "execution_count": null,
   "metadata": {},
   "outputs": [],
   "source": []
  }
 ],
 "metadata": {
  "kernelspec": {
   "display_name": "Python 3",
   "language": "python",
   "name": "python3"
  },
  "language_info": {
   "codemirror_mode": {
    "name": "ipython",
    "version": 3
   },
   "file_extension": ".py",
   "mimetype": "text/x-python",
   "name": "python",
   "nbconvert_exporter": "python",
   "pygments_lexer": "ipython3",
   "version": "3.6.5"
  }
 },
 "nbformat": 4,
 "nbformat_minor": 2
}
